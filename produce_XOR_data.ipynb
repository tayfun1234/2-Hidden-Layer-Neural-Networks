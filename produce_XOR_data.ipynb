{
  "nbformat": 4,
  "nbformat_minor": 0,
  "metadata": {
    "colab": {
      "name": "produce_XOR_data.ipynb",
      "provenance": [],
      "private_outputs": true,
      "authorship_tag": "ABX9TyMx4km/7FRg3FIslHHoZJvm",
      "include_colab_link": true
    },
    "kernelspec": {
      "name": "python3",
      "display_name": "Python 3"
    }
  },
  "cells": [
    {
      "cell_type": "markdown",
      "metadata": {
        "id": "view-in-github",
        "colab_type": "text"
      },
      "source": [
        "<a href=\"https://colab.research.google.com/github/tayfununal/2-Hidden-Layer-Neural-Networks/blob/master/produce_XOR_data.ipynb\" target=\"_parent\"><img src=\"https://colab.research.google.com/assets/colab-badge.svg\" alt=\"Open In Colab\"/></a>"
      ]
    },
    {
      "cell_type": "code",
      "metadata": {
        "id": "J9u3_pL5eg4B"
      },
      "source": [
        "!pip install playground-data"
      ],
      "execution_count": null,
      "outputs": []
    },
    {
      "cell_type": "code",
      "metadata": {
        "id": "99EPebs1emTf"
      },
      "source": [
        "import plygdata as pg\n",
        "import numpy as np\n",
        "import pandas as pd\n",
        "import json"
      ],
      "execution_count": null,
      "outputs": []
    },
    {
      "cell_type": "code",
      "metadata": {
        "id": "Mxkf2LjQen7Y"
      },
      "source": [
        "datas = {}\n",
        "n = 100 #number of XOR data \n",
        "for i in range(1, n+1):\n",
        "  data = pg.dataset.DataGenerator.classify_xor(1000,noise=0.1)\n",
        "  datas['%d'%i] = data"
      ],
      "execution_count": null,
      "outputs": []
    },
    {
      "cell_type": "code",
      "metadata": {
        "id": "rmRDT5a6vhbr"
      },
      "source": [
        "for i in range(1, n+1):\n",
        "  data = np.array(datas[\"%d\"%i])\n",
        "  for j in range(0,1000):\n",
        "    if data[j][2]==-1:\n",
        "      data[j][2] = 0\n",
        "  datas[\"%d\"%i]=np.ndarray.tolist(data)"
      ],
      "execution_count": null,
      "outputs": []
    },
    {
      "cell_type": "code",
      "metadata": {
        "id": "GLr9A0OqwHS_"
      },
      "source": [
        "with open('Datas.json', 'w') as json_file:\n",
        "    json.dump(datas,json_file)"
      ],
      "execution_count": null,
      "outputs": []
    },
    {
      "cell_type": "code",
      "metadata": {
        "id": "p22xfo-C7gjn"
      },
      "source": [
        ""
      ],
      "execution_count": null,
      "outputs": []
    }
  ]
}