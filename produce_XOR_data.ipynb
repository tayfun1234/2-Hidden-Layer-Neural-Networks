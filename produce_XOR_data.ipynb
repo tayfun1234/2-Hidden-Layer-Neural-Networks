{
  "nbformat": 4,
  "nbformat_minor": 0,
  "metadata": {
    "colab": {
      "name": "produce_XOR_data.ipynb",
      "provenance": [],
      "private_outputs": true,
      "authorship_tag": "ABX9TyOzZIyNnseIHmCd6q14XvpE",
      "include_colab_link": true
    },
    "kernelspec": {
      "name": "python3",
      "display_name": "Python 3"
    }
  },
  "cells": [
    {
      "cell_type": "markdown",
      "metadata": {
        "id": "view-in-github",
        "colab_type": "text"
      },
      "source": [
        "<a href=\"https://colab.research.google.com/github/tayfununal/2-Hidden-Layer-Neural-Networks/blob/master/produce_XOR_data.ipynb\" target=\"_parent\"><img src=\"https://colab.research.google.com/assets/colab-badge.svg\" alt=\"Open In Colab\"/></a>"
      ]
    },
    {
      "cell_type": "code",
      "metadata": {
        "id": "J9u3_pL5eg4B"
      },
      "source": [
        "!pip install playground-data"
      ],
      "execution_count": null,
      "outputs": []
    },
    {
      "cell_type": "code",
      "metadata": {
        "id": "99EPebs1emTf"
      },
      "source": [
        "import plygdata as pg\n",
        "import numpy as np\n",
        "import pandas as pd\n",
        "import csv"
      ],
      "execution_count": null,
      "outputs": []
    },
    {
      "cell_type": "code",
      "metadata": {
        "id": "Mxkf2LjQen7Y"
      },
      "source": [
        "datas = {}\n",
        "n = 100 #number of XOR data \n",
        "for i in range(1, n+1):\n",
        "  data = np.array(pg.dataset.DataGenerator.classify_xor(1000,noise=0.1))\n",
        "  datas[i]=data"
      ],
      "execution_count": null,
      "outputs": []
    },
    {
      "cell_type": "code",
      "metadata": {
        "id": "9dpAJywGfJc1"
      },
      "source": [
        "for i in range(1, n+1):\n",
        "  for j in range(0,1000):\n",
        "    if datas[i][j][2] == -1:\n",
        "      datas[i][j][2] = 0\n"
      ],
      "execution_count": null,
      "outputs": []
    },
    {
      "cell_type": "code",
      "metadata": {
        "id": "rmRDT5a6vhbr"
      },
      "source": [
        "type(datas)"
      ],
      "execution_count": null,
      "outputs": []
    },
    {
      "cell_type": "code",
      "metadata": {
        "id": "GLr9A0OqwHS_"
      },
      "source": [
        "with open('Datas.txt', 'w') as file:\n",
        "    file.write(str(datas))"
      ],
      "execution_count": null,
      "outputs": []
    }
  ]
}