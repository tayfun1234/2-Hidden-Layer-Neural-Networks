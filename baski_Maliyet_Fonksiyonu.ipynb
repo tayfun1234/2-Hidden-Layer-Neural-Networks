{
  "nbformat": 4,
  "nbformat_minor": 0,
  "metadata": {
    "colab": {
      "name": "baski_Maliyet_Fonksiyonu.ipynb",
      "private_outputs": true,
      "provenance": [],
      "authorship_tag": "ABX9TyN+JxeI33OqCEA34itsPJ8Q",
      "include_colab_link": true
    },
    "kernelspec": {
      "name": "python3",
      "display_name": "Python 3"
    }
  },
  "cells": [
    {
      "cell_type": "markdown",
      "metadata": {
        "id": "view-in-github",
        "colab_type": "text"
      },
      "source": [
        "<a href=\"https://colab.research.google.com/github/tayfununal/2-Hidden-Layer-Neural-Networks/blob/master/baski_Maliyet_Fonksiyonu.ipynb\" target=\"_parent\"><img src=\"https://colab.research.google.com/assets/colab-badge.svg\" alt=\"Open In Colab\"/></a>"
      ]
    },
    {
      "cell_type": "code",
      "metadata": {
        "id": "EjxOWWnyXuWX"
      },
      "source": [
        "!pip install playground-data"
      ],
      "execution_count": null,
      "outputs": []
    },
    {
      "cell_type": "code",
      "metadata": {
        "id": "CIIl37avX4mF"
      },
      "source": [
        "import numpy as np\r\n",
        "import matplotlib.pyplot as plt\r\n",
        "import pandas as pd\r\n",
        "import plygdata as pg\r\n",
        "import json\r\n",
        "import requests"
      ],
      "execution_count": null,
      "outputs": []
    },
    {
      "cell_type": "code",
      "metadata": {
        "id": "7FffcOUDX8df"
      },
      "source": [
        "Datas = json.loads(requests.get(\"https://raw.githubusercontent.com/tayfununal/2-Hidden-Layer-Neural-Networks/master/produced_XOR_Datas.json\").text)"
      ],
      "execution_count": null,
      "outputs": []
    },
    {
      "cell_type": "code",
      "metadata": {
        "id": "c34B1GQgYCvb"
      },
      "source": [
        "df = pd.DataFrame(Datas[\"1\"])\r\n",
        "df"
      ],
      "execution_count": null,
      "outputs": []
    },
    {
      "cell_type": "code",
      "metadata": {
        "id": "TGkOK-x_YKwr"
      },
      "source": [
        "X = np.array(df[[0,1]]).T\r\n",
        "Y = np.array(df[[2]]).T"
      ],
      "execution_count": null,
      "outputs": []
    },
    {
      "cell_type": "code",
      "metadata": {
        "id": "TUVqFiQVYPwP"
      },
      "source": [
        "print(\"Shape of X_train:\", X.shape,\r\n",
        "      \"\\nShape of y_train:\", Y.shape)"
      ],
      "execution_count": null,
      "outputs": []
    },
    {
      "cell_type": "code",
      "metadata": {
        "id": "EUa82RreZVXR"
      },
      "source": [
        "def initialization_parameters(x, y, num_node):\r\n",
        "  W1 = np.random.randn(num_node, x.shape[0])\r\n",
        "  b1 = np.zeros((num_node,1))\r\n",
        "\r\n",
        "  W2 = np.random.randn(y.shape[0],num_node)\r\n",
        "  b2 = np.zeros((y.shape[0],1))\r\n",
        "\r\n",
        "  assert W1.shape == (num_node,x.shape[0])\r\n",
        "  assert b1.shape == (num_node, 1)\r\n",
        "\r\n",
        "  assert W2.shape == (y.shape[0], num_node)\r\n",
        "  assert b2.shape == (y.shape[0], 1)\r\n",
        "\r\n",
        "  parameters = {'W1':W1,\r\n",
        "                'b1':b1,\r\n",
        "                'W2':W2,\r\n",
        "                'b2':b2}\r\n",
        "  return parameters\r\n",
        "\r\n",
        "def sigmoid(x):\r\n",
        "  return 1/(1+np.exp(-x))\r\n",
        "\r\n",
        "def relu(x):\r\n",
        "  return np.maximum(0,x)\r\n",
        "\r\n",
        "def reluDerivative(x):\r\n",
        "  x[x<=0] = 0\r\n",
        "  x[x>0] = 1\r\n",
        "  return x\r\n",
        "\r\n",
        "def forward_prop(x,parameters):\r\n",
        "  W1 = parameters['W1']\r\n",
        "  b1 = parameters['b1']\r\n",
        "  W2 = parameters['W2']\r\n",
        "  b2 = parameters['b2']\r\n",
        "  \r\n",
        "  Z1 = np.dot(W1, x) + b1\r\n",
        "  A1 = relu(Z1)\r\n",
        "  Z2 = np.dot(W2, A1) + b2\r\n",
        "  A2 = sigmoid(Z2)\r\n",
        "\r\n",
        "  assert (A2.shape == (1, x.shape[1]))\r\n",
        "  cache = {\r\n",
        "      'Z1' : Z1,\r\n",
        "      'A1' : A1,\r\n",
        "      'Z2' : Z2,\r\n",
        "      'A2' : A2\r\n",
        "  }\r\n",
        "  return A2, cache\r\n",
        "\r\n",
        "def backward_prop(x, y, parameters, baski_neuron, cache, learning_rate = 0.1):\r\n",
        "  m = y.shape[1]\r\n",
        "  \r\n",
        "  W1 = parameters['W1']\r\n",
        "  b1 = parameters['b1']\r\n",
        "  W2 = parameters['W2']\r\n",
        "  b2 = parameters['b2']\r\n",
        "\r\n",
        "  A1 = cache['A1']\r\n",
        "  A2 = cache['A2']\r\n",
        "  Z1 = cache['Z1']\r\n",
        "  \r\n",
        "  # Calculations of backward propagation: dW1, db1, dW2, db2\r\n",
        "  baski_W1 = np.zeros((baski_neuron,2))\r\n",
        "  baski_W1[baski_neuron-1,0] = gama * W1[baski_neuron-1,0]\r\n",
        "  baski_W1[baski_neuron - 1, 1] = gama * W1[baski_neuron-1,1]\r\n",
        "\r\n",
        "  baski_W2 = np.zeros((1,baski_neuron))\r\n",
        "  baski_W2[0,baski_neuron-1] = gama * W2[0,baski_neuron-1]\r\n",
        "\r\n",
        "  baski_b1=np.zeros((baski_neuron,1))\r\n",
        "  baski_b1[baski_neuron-1,0] = gama * b1[baski_neuron-1,0]\r\n",
        "\r\n",
        "  dZ2 = A2 - Y\r\n",
        "  dW2 = (1.0 / m) * (np.dot(dZ2, A1.T) + baski_W2)\r\n",
        "  db2 = (1.0 / m) * np.sum(dZ2, axis=1, keepdims=True)\r\n",
        "  dZ1 = np.multiply(np.dot(W2.T, dZ2), reluDerivative(Z1))\r\n",
        "  dW1 = (1.0 / m) * (np.dot(dZ1, X.T) + baski_W1)\r\n",
        "  db1 = (1.0 / m) * (np.sum(dZ1, axis=1, keepdims=True) + baski_b1)\r\n",
        "\r\n",
        "  # Updating parameters\r\n",
        "  W1 = W1 - learning_rate * dW1\r\n",
        "  b1 = b1 - learning_rate * db1\r\n",
        "  W2 = W2 - learning_rate * dW2\r\n",
        "  b2 = b2 - learning_rate * db2\r\n",
        "  \r\n",
        "  parameters = {'W1':W1,\r\n",
        "                'b1':b1,\r\n",
        "                'W2':W2,\r\n",
        "                'b2':b2}\r\n",
        "  return parameters\r\n",
        "\r\n",
        "def cross_entropy_cost(y, A2, baski_neuron):\r\n",
        "  m = y.shape[1]\r\n",
        "  \r\n",
        "  W1 = parameters['W1']\r\n",
        "  b1 = parameters['b1']\r\n",
        "  W2 = parameters['W2']\r\n",
        "\r\n",
        "  cross_entropy = np.multiply(np.log(A2 + 1e-15), Y) + np.multiply((1 - Y), np.log(1 - A2 + 1e-15))\r\n",
        "  cost = ( 1.0 / m) * ( - np.sum(cross_entropy) + (gama / 2.0) * (W1[baski_neuron-1,0]**2 + W1[baski_neuron-1,1]**2 + W2[0,baski_neuron-1]**2 + b1[baski_neuron-1,0]**2))\r\n",
        "  \r\n",
        "  # Squeezing to avoid unnecessary dimensions \r\n",
        "  cost = np.squeeze(cost) \r\n",
        "  return cost"
      ],
      "execution_count": null,
      "outputs": []
    },
    {
      "cell_type": "code",
      "metadata": {
        "id": "3-A2lzWNY8ex"
      },
      "source": [
        "def nn_model(x, y, parameters, baski_neuron, number_of_iter = 1000):\r\n",
        "  cost_value = {}\r\n",
        "  A2, cache = forward_prop(x, parameters)\r\n",
        "  cost = cross_entropy_cost(y, A2, baski_neuron)\r\n",
        "  cost_value[1] = cost\r\n",
        "\r\n",
        "  for i in range(1,number_of_iter):\r\n",
        "    parameters = backward_prop(x, y, parameters, baski_neuron, cache, learning_rate=0.6)\r\n",
        "    A2, cache = forward_prop(x, parameters)\r\n",
        "    cost = cross_entropy_cost(y, A2, baski_neuron)\r\n",
        "    \r\n",
        "    #cost_value[i+1] = cost\r\n",
        "    \r\n",
        "    if (i+1) % 100 == 0:\r\n",
        "     cost_value[i+1] = cost\r\n",
        "     print(\"%i.\"%(i+1),cost)\r\n",
        "    \r\n",
        "  return cost_value, parameters"
      ],
      "execution_count": null,
      "outputs": []
    },
    {
      "cell_type": "code",
      "metadata": {
        "id": "SY9abyVxZfS5"
      },
      "source": [
        "np.random.seed(0)\r\n",
        "gama = 5\r\n",
        "\r\n",
        "parameters = initialization_parameters(X, Y, 46)\r\n",
        "cost_value, parameters = nn_model(X, Y, parameters, baski_neuron = 46, number_of_iter = 1000)\r\n",
        "  \r\n",
        "\"\"\"\r\n",
        "cost = []\r\n",
        "for i in range(1,101):\r\n",
        "  parameters = initialization_parameters(X, Y, i)\r\n",
        "  cost_value, parameters = nn_model(X, Y, parameters, baski_neuron = i, number_of_iter = 1000)\r\n",
        "  cost.append(cost_value[1000])\r\n",
        "cost\r\n",
        "\"\"\""
      ],
      "execution_count": null,
      "outputs": []
    },
    {
      "cell_type": "code",
      "metadata": {
        "id": "spE5nUoZhRE4"
      },
      "source": [
        "parameters"
      ],
      "execution_count": null,
      "outputs": []
    },
    {
      "cell_type": "code",
      "metadata": {
        "id": "LGtqEb_LhSjp"
      },
      "source": [
        "x = [i for i in range(1,101)]\r\n",
        "\r\n",
        "plt.plot(x,cost)\r\n",
        "\r\n",
        "for i in range(0,100):\r\n",
        "  if cost[i]==0.007841210740944437:\r\n",
        "    print(i)\r\n",
        "  "
      ],
      "execution_count": null,
      "outputs": []
    },
    {
      "cell_type": "code",
      "metadata": {
        "id": "cnvaG7RXOVYb"
      },
      "source": [
        "cost[48]"
      ],
      "execution_count": null,
      "outputs": []
    },
    {
      "cell_type": "code",
      "metadata": {
        "id": "ywQY5QAvsmoq"
      },
      "source": [
        ""
      ],
      "execution_count": null,
      "outputs": []
    }
  ]
}