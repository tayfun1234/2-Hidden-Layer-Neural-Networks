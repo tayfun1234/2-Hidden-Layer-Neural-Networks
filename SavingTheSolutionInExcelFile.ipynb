{
  "nbformat": 4,
  "nbformat_minor": 0,
  "metadata": {
    "colab": {
      "name": "SavingTheSolutionInExcelFile.ipynb",
      "private_outputs": true,
      "provenance": [],
      "authorship_tag": "ABX9TyPhUmuPhaVOuTML1YdEb1YV",
      "include_colab_link": true
    },
    "kernelspec": {
      "name": "python3",
      "display_name": "Python 3"
    }
  },
  "cells": [
    {
      "cell_type": "markdown",
      "metadata": {
        "id": "view-in-github",
        "colab_type": "text"
      },
      "source": [
        "<a href=\"https://colab.research.google.com/github/tayfununal/2-Hidden-Layer-Neural-Networks/blob/master/SavingTheSolutionInExcelFile.ipynb\" target=\"_parent\"><img src=\"https://colab.research.google.com/assets/colab-badge.svg\" alt=\"Open In Colab\"/></a>"
      ]
    },
    {
      "cell_type": "code",
      "metadata": {
        "id": "qtRyP_6zAno5"
      },
      "source": [
        "import pandas as pd\r\n",
        "import numpy as np\r\n",
        "import matplotlib.pyplot as plt"
      ],
      "execution_count": null,
      "outputs": []
    },
    {
      "cell_type": "code",
      "metadata": {
        "id": "-R5io2NVAsp2"
      },
      "source": [
        "file = open(\"/content/1000 verili Veri Grubunun Sonuçları.txt\",\"r\")\r\n",
        "data = file.read()"
      ],
      "execution_count": null,
      "outputs": []
    },
    {
      "cell_type": "code",
      "metadata": {
        "id": "oowwFgZ3Auj5"
      },
      "source": [
        "file.close()"
      ],
      "execution_count": null,
      "outputs": []
    },
    {
      "cell_type": "code",
      "metadata": {
        "id": "vo1h5_PqAwo1"
      },
      "source": [
        "type(data)"
      ],
      "execution_count": null,
      "outputs": []
    },
    {
      "cell_type": "code",
      "metadata": {
        "id": "nV-CDJLEAyrt"
      },
      "source": [
        "data = eval(data) #convert str to dict"
      ],
      "execution_count": null,
      "outputs": []
    },
    {
      "cell_type": "code",
      "metadata": {
        "id": "4Uomf9d0A5O7"
      },
      "source": [
        "df=pd.DataFrame(data)\r\n",
        "for i in range(1,101):\r\n",
        "  df = df.rename(columns={'{}'.format(i):'{}.Veri'.format(i)})\r\n",
        "for i in range(1,21):\r\n",
        "  df = df.rename(index={'{}'.format(i):'{}.Loss'.format(i)})\r\n",
        "df"
      ],
      "execution_count": null,
      "outputs": []
    },
    {
      "cell_type": "code",
      "metadata": {
        "id": "OuXzlvS3A7N9"
      },
      "source": [
        "df.to_excel(\"output.xlsx\") #Save the solution as an excel file"
      ],
      "execution_count": null,
      "outputs": []
    }
  ]
}