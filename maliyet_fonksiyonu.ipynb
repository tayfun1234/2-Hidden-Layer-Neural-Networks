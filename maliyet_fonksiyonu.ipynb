{
  "nbformat": 4,
  "nbformat_minor": 0,
  "metadata": {
    "colab": {
      "name": "maliyet_fonksiyonu.ipynb",
      "private_outputs": true,
      "provenance": [],
      "authorship_tag": "ABX9TyMRju+U+iQNKmfO6Cpmylh1",
      "include_colab_link": true
    },
    "kernelspec": {
      "name": "python3",
      "display_name": "Python 3"
    }
  },
  "cells": [
    {
      "cell_type": "markdown",
      "metadata": {
        "id": "view-in-github",
        "colab_type": "text"
      },
      "source": [
        "<a href=\"https://colab.research.google.com/github/tayfununal/2-Hidden-Layer-Neural-Networks/blob/master/maliyet_fonksiyonu.ipynb\" target=\"_parent\"><img src=\"https://colab.research.google.com/assets/colab-badge.svg\" alt=\"Open In Colab\"/></a>"
      ]
    },
    {
      "cell_type": "code",
      "metadata": {
        "id": "bF2sY4dHnm_4"
      },
      "source": [
        "!pip install playground-data"
      ],
      "execution_count": null,
      "outputs": []
    },
    {
      "cell_type": "code",
      "metadata": {
        "id": "LZKkji2ZnqCG"
      },
      "source": [
        "import numpy as np\r\n",
        "import matplotlib.pyplot as plt\r\n",
        "import pandas as pd\r\n",
        "import plygdata as pg\r\n",
        "import json\r\n",
        "import requests"
      ],
      "execution_count": null,
      "outputs": []
    },
    {
      "cell_type": "code",
      "metadata": {
        "id": "2sWP8cTansWT"
      },
      "source": [
        "Datas = json.loads(requests.get(\"https://raw.githubusercontent.com/tayfununal/2-Hidden-Layer-Neural-Networks/master/produced_XOR_Datas.json\").text)"
      ],
      "execution_count": null,
      "outputs": []
    },
    {
      "cell_type": "code",
      "metadata": {
        "id": "-LHK22P3nswG"
      },
      "source": [
        "df = pd.DataFrame(Datas[\"1\"])\r\n",
        "df"
      ],
      "execution_count": null,
      "outputs": []
    },
    {
      "cell_type": "code",
      "metadata": {
        "id": "vjlNbkDIn6nx"
      },
      "source": [
        "X = np.array(df[[0,1]]).T\r\n",
        "Y = np.array(df[[2]]).T"
      ],
      "execution_count": null,
      "outputs": []
    },
    {
      "cell_type": "code",
      "metadata": {
        "id": "IoVNVlNXn9kk"
      },
      "source": [
        "print(\"Shape of X_train:\", X.shape,\r\n",
        "      \"\\nShape of y_train:\", Y.shape)"
      ],
      "execution_count": null,
      "outputs": []
    },
    {
      "cell_type": "code",
      "metadata": {
        "id": "wqPnkZL3oKfC"
      },
      "source": [
        "def initialization_parameters(x, y, num_node):\r\n",
        "  W1 = np.random.randn(num_node, x.shape[0])\r\n",
        "  b1 = np.zeros((num_node,1))\r\n",
        "\r\n",
        "  W2 = np.random.randn(y.shape[0],num_node)\r\n",
        "  b2 = np.zeros((y.shape[0],1))\r\n",
        "\r\n",
        "  assert W1.shape == (num_node,x.shape[0])\r\n",
        "  assert b1.shape == (num_node, 1)\r\n",
        "\r\n",
        "  assert W2.shape == (y.shape[0], num_node)\r\n",
        "  assert b2.shape == (y.shape[0], 1)\r\n",
        "\r\n",
        "  parameters = {'W1':W1,\r\n",
        "                'b1':b1,\r\n",
        "                'W2':W2,\r\n",
        "                'b2':b2}\r\n",
        "  return parameters\r\n",
        "\r\n",
        "def sigmoid(x):\r\n",
        "  return 1/(1+np.exp(-x))\r\n",
        "\r\n",
        "def relu(x):\r\n",
        "  return np.maximum(0,x)\r\n",
        "\r\n",
        "def reluDerivative(x):\r\n",
        "  x[x<=0] = 0\r\n",
        "  x[x>0] = 1\r\n",
        "  return x\r\n",
        "\r\n",
        "def forward_prop(x,parameters):\r\n",
        "  W1 = parameters['W1']\r\n",
        "  b1 = parameters['b1']\r\n",
        "  W2 = parameters['W2']\r\n",
        "  b2 = parameters['b2']\r\n",
        "  \r\n",
        "  Z1 = np.dot(W1, x) + b1\r\n",
        "  A1 = relu(Z1)\r\n",
        "  Z2 = np.dot(W2, A1) + b2\r\n",
        "  A2 = sigmoid(Z2)\r\n",
        "\r\n",
        "  assert (A2.shape == (1, x.shape[1]))\r\n",
        "  cache = {\r\n",
        "      'Z1' : Z1,\r\n",
        "      'A1' : A1,\r\n",
        "      'Z2' : Z2,\r\n",
        "      'A2' : A2\r\n",
        "  }\r\n",
        "  return A2, cache\r\n",
        "\r\n",
        "def backward_prop(x, y, parameters, cache, learning_rate = 0.1):\r\n",
        "  m = y.shape[1]\r\n",
        "  \r\n",
        "  W1 = parameters['W1']\r\n",
        "  b1 = parameters['b1']\r\n",
        "  W2 = parameters['W2']\r\n",
        "  b2 = parameters['b2']\r\n",
        "\r\n",
        "  A1 = cache['A1']\r\n",
        "  A2 = cache['A2']\r\n",
        "  Z1 = cache['Z1']\r\n",
        "  \r\n",
        "  # Calculations of backward propagation: dW1, db1, dW2, db2\r\n",
        "  dZ2 = A2 - y\r\n",
        "  dW2 = (1 / m) * np.dot(dZ2, A1.T)\r\n",
        "  db2 = (1 / m) * np.sum(dZ2, axis = 1, keepdims = True)\r\n",
        "\r\n",
        "  dZ1 = np.multiply(np.dot(W2.T, dZ2), reluDerivative(Z1))\r\n",
        "  dW1 = (1 / m) * np.dot(dZ1, x.T)\r\n",
        "  db1 = (1 / m) * np.sum(dZ1 , axis = 1, keepdims = True)\r\n",
        "\r\n",
        "  # Updating parameters\r\n",
        "  W1 = W1 - learning_rate * dW1\r\n",
        "  b1 = b1 - learning_rate * db1\r\n",
        "  W2 = W2 - learning_rate * dW2\r\n",
        "  b2 = b2 - learning_rate * db2\r\n",
        "  \r\n",
        "  parameters = {'W1':W1,\r\n",
        "                'b1':b1,\r\n",
        "                'W2':W2,\r\n",
        "                'b2':b2}\r\n",
        "  return parameters\r\n",
        "\r\n",
        "def cross_entropy_cost(y, A2):\r\n",
        "  m = y.shape[1]\r\n",
        "  \r\n",
        "  cross_entropy = np.multiply(np.log(A2 + 1e-15), y) + np.multiply((1 - y), np.log(1 - A2 + 1e-15))\r\n",
        "  cost = (- 1.0 / m) * np.sum(cross_entropy)\r\n",
        "\r\n",
        "  # Squeezing to avoid unnecessary dimensions \r\n",
        "  cost = np.squeeze(cost) \r\n",
        "  return cost  "
      ],
      "execution_count": null,
      "outputs": []
    },
    {
      "cell_type": "code",
      "metadata": {
        "id": "EGMvNbbCoNZH"
      },
      "source": [
        "def nn_model(x, y, parameters, number_of_iter = 1000):\r\n",
        "  cost_value = {}\r\n",
        "  A2, cache = forward_prop(x, parameters)\r\n",
        "  cost = cross_entropy_cost(y, A2)\r\n",
        "  cost_value[1] = cost\r\n",
        "\r\n",
        "  for i in range(1,number_of_iter):\r\n",
        "    parameters = backward_prop(x, y, parameters, cache, learning_rate=0.6)\r\n",
        "    A2, cache = forward_prop(x, parameters)\r\n",
        "    cost = cross_entropy_cost(y, A2)\r\n",
        "    \r\n",
        "    #cost_value[i+1] = cost\r\n",
        "\r\n",
        "    if (i+1) % 100 == 0:\r\n",
        "     cost_value[i+1] = cost\r\n",
        "     print(\"%i.\"%(i+1),cost)\r\n",
        "  return cost_value, parameters"
      ],
      "execution_count": null,
      "outputs": []
    },
    {
      "cell_type": "code",
      "metadata": {
        "id": "Nmkd_I8BoP0m"
      },
      "source": [
        "np.random.seed(0)\r\n",
        "cost = []\r\n",
        "for i in range(1,101):\r\n",
        " parameters = initialization_parameters(X, Y, i)\r\n",
        " cost_value, parameters = nn_model(X, Y, parameters, number_of_iter = 5000)\r\n",
        " cost.append(\"{}\".format(cost_value[5000]))\r\n"
      ],
      "execution_count": null,
      "outputs": []
    },
    {
      "cell_type": "code",
      "metadata": {
        "id": "i3ukCum-rXB-"
      },
      "source": [
        "cost\r\n"
      ],
      "execution_count": null,
      "outputs": []
    },
    {
      "cell_type": "code",
      "metadata": {
        "id": "H_1cQeDnH7Wu"
      },
      "source": [
        "parameters"
      ],
      "execution_count": null,
      "outputs": []
    },
    {
      "cell_type": "code",
      "metadata": {
        "id": "luQ4-FLLkHpD"
      },
      "source": [
        "maliyet_cost = ['0.5537922359976272',\r\n",
        " '0.353624164383917',\r\n",
        " '0.35359878299528397',\r\n",
        " '0.013138488571214248',\r\n",
        " '0.008486153288207827',\r\n",
        " '0.009657241448897276',\r\n",
        " '0.008499728903927277',\r\n",
        " '0.008414519366263758',\r\n",
        " '0.010725853565499044',\r\n",
        " '0.0084682885072114',\r\n",
        " '0.008492264295928961',\r\n",
        " '0.008497398528570331',\r\n",
        " '0.008411302424721247',\r\n",
        " '0.008462272323749607',\r\n",
        " '0.008448069061779901',\r\n",
        " '0.00844472075235177',\r\n",
        " '0.008431287665265498',\r\n",
        " '0.008357243070537465',\r\n",
        " '0.008164185813262611',\r\n",
        " '0.008330504505239691',\r\n",
        " '0.008014412267769664',\r\n",
        " '0.008276152652436367',\r\n",
        " '0.008436035085198456',\r\n",
        " '0.008374379679709242',\r\n",
        " '0.008310235945582459',\r\n",
        " '0.008446368290450486',\r\n",
        " '0.008088373168480253',\r\n",
        " '0.008407148618402398',\r\n",
        " '0.008178900464337693',\r\n",
        " '0.008306371279586739',\r\n",
        " '0.007961328185958174',\r\n",
        " '0.0076246353463723295',\r\n",
        " '0.007681342396208303',\r\n",
        " '0.0070284525167915',\r\n",
        " '0.00812126369496379',\r\n",
        " '0.0070669331237133105',\r\n",
        " '0.0068752963410775485',\r\n",
        " '0.007487186678577655',\r\n",
        " '0.008244076385262792',\r\n",
        " '0.007588313669369594',\r\n",
        " '0.007910784159740794',\r\n",
        " '0.00813371958855177',\r\n",
        " '0.0076285122062119196',\r\n",
        " '0.00800025810862807',\r\n",
        " '0.008124994592745812',\r\n",
        " '0.007858690755744616',\r\n",
        " '0.007646760173460102',\r\n",
        " '0.0074820478359354774',\r\n",
        " '0.006573981861197982',\r\n",
        " '0.007998728095203649',\r\n",
        " '0.0075167369929978085',\r\n",
        " '0.007152454572615447',\r\n",
        " '0.007350519719983107',\r\n",
        " '0.007947191601992108',\r\n",
        " '0.007389702863926972',\r\n",
        " '0.006754854035182897',\r\n",
        " '0.006496209816473981',\r\n",
        " '0.007248402520332016',\r\n",
        " '0.007885875626364384',\r\n",
        " '0.007902293780590375',\r\n",
        " '0.007817876049737455',\r\n",
        " '0.007973216754687647',\r\n",
        " '0.007522949730419883',\r\n",
        " '0.0077817709285557405',\r\n",
        " '0.0071129017486180205',\r\n",
        " '0.006532112564058876',\r\n",
        " '0.006644633257790108',\r\n",
        " '0.007286797921359529',\r\n",
        " '0.007540650779414752',\r\n",
        " '0.006921343264371289',\r\n",
        " '0.007360945329934922',\r\n",
        " '0.007094753529253979',\r\n",
        " '0.0074594120986497875',\r\n",
        " '0.007437968119091573',\r\n",
        " '0.006155519356029753',\r\n",
        " '0.00675360722885747',\r\n",
        " '0.006603711468176966',\r\n",
        " '0.007668936218811255',\r\n",
        " '0.0067104748847032405',\r\n",
        " '0.007386378950808201',\r\n",
        " '0.006366035354735076',\r\n",
        " '0.006493246969312331',\r\n",
        " '0.0067301567597047515',\r\n",
        " '0.006378025698110777',\r\n",
        " '0.0061576074923297775',\r\n",
        " '0.0068470641622119565',\r\n",
        " '0.007696290920972585',\r\n",
        " '0.006495064246142247',\r\n",
        " '0.006865958331307201',\r\n",
        " '0.006863947813110398',\r\n",
        " '0.006570761194224458',\r\n",
        " '0.006913207718634767',\r\n",
        " '0.00618300423379175',\r\n",
        " '0.007154306827721765',\r\n",
        " '0.006825594168053375',\r\n",
        " '0.007010435753070989',\r\n",
        " '0.00692294920710947',\r\n",
        " '0.007572073254439713',\r\n",
        " '0.006902506678000247',\r\n",
        " '0.0064631782048903885']"
      ],
      "execution_count": null,
      "outputs": []
    },
    {
      "cell_type": "code",
      "metadata": {
        "id": "nCURmK4Fwlfd"
      },
      "source": [
        "baski_maliyet =['0.5649850700675405',\r\n",
        " '0.3661914708222532',\r\n",
        " '0.3645875365761629',\r\n",
        " '0.022711337352844762',\r\n",
        " '0.008987686189747204',\r\n",
        " '0.010567667786489373',\r\n",
        " '0.012124297628651224',\r\n",
        " '0.009159058354483761',\r\n",
        " '0.01169756640824557',\r\n",
        " '0.011746048046882862',\r\n",
        " '0.012828262056884561',\r\n",
        " '0.009744552544771305',\r\n",
        " '0.015149859584313984',\r\n",
        " '0.010462502745492262',\r\n",
        " '0.010516743100164002',\r\n",
        " '0.008819202836548115',\r\n",
        " '0.00998642900113198',\r\n",
        " '0.01911336611513256',\r\n",
        " '0.008872815542188864',\r\n",
        " '0.008488435381745077',\r\n",
        " '0.01420317493053829',\r\n",
        " '0.013641016193095169',\r\n",
        " '0.014458484397230204',\r\n",
        " '0.010166812491958568',\r\n",
        " '0.012658050891351937',\r\n",
        " '0.010195805322253592',\r\n",
        " '0.0085376762872431',\r\n",
        " '0.009844171949293719',\r\n",
        " '0.009575709978268033',\r\n",
        " '0.010708408382854348',\r\n",
        " '0.010419805611135398',\r\n",
        " '0.014233717696690138',\r\n",
        " '0.009092731332042666',\r\n",
        " '0.007420910146720201',\r\n",
        " '0.008749405651071069',\r\n",
        " '0.009628755017477451',\r\n",
        " '0.009317258964755732',\r\n",
        " '0.009863318705869682',\r\n",
        " '0.008984246807651822',\r\n",
        " '0.00952452159662942',\r\n",
        " '0.00931455267757985',\r\n",
        " '0.008703761001346868',\r\n",
        " '0.009463446809866074',\r\n",
        " '0.009344838851719914',\r\n",
        " '0.00954964114180564',\r\n",
        " '0.009219991525450897',\r\n",
        " '0.00984795910959654',\r\n",
        " '0.013312300008186867',\r\n",
        " '0.007022487029476189',\r\n",
        " '0.00918197859119447',\r\n",
        " '0.00836985384429105',\r\n",
        " '0.008510547985117975',\r\n",
        " '0.011682825747335398',\r\n",
        " '0.009770077189218976',\r\n",
        " '0.008542905419365088',\r\n",
        " '0.016690857958968252',\r\n",
        " '0.010632701389593015',\r\n",
        " '0.007961558890300466',\r\n",
        " '0.009891206011057462',\r\n",
        " '0.008270530743662545',\r\n",
        " '0.012086220673579236',\r\n",
        " '0.010635241354481142',\r\n",
        " '0.014424293534936737',\r\n",
        " '0.009194543399840625',\r\n",
        " '0.008850775599235222',\r\n",
        " '0.007288586222596008',\r\n",
        " '0.008356231603589944',\r\n",
        " '0.009399540767302294',\r\n",
        " '0.008434971987835096',\r\n",
        " '0.008306234334636604',\r\n",
        " '0.009014582678882228',\r\n",
        " '0.007671258263359464',\r\n",
        " '0.011259832450647104',\r\n",
        " '0.009309266207207904',\r\n",
        " '0.011583768251843821',\r\n",
        " '0.0071715675334483794',\r\n",
        " '0.008358035426591137',\r\n",
        " '0.008043018276976337',\r\n",
        " '0.007714392583191371',\r\n",
        " '0.010579344839134027',\r\n",
        " '0.0073411387536627265',\r\n",
        " '0.007065231556581304',\r\n",
        " '0.008616431457349766',\r\n",
        " '0.011325425261020438',\r\n",
        " '0.007064148638341038',\r\n",
        " '0.008114659428399798',\r\n",
        " '0.016354351790572628',\r\n",
        " '0.0096694491321425',\r\n",
        " '0.015528037229643474',\r\n",
        " '0.011351465209226646',\r\n",
        " '0.006945569090805458',\r\n",
        " '0.008768511432199514',\r\n",
        " '0.007919258498930975',\r\n",
        " '0.010230974433598418',\r\n",
        " '0.008767450742085297',\r\n",
        " '0.013888063055410287',\r\n",
        " '0.007205870369599042',\r\n",
        " '0.010574870853207035',\r\n",
        " '0.010451507080380182',\r\n",
        " '0.007614399764315353']"
      ],
      "execution_count": null,
      "outputs": []
    },
    {
      "cell_type": "code",
      "metadata": {
        "id": "Dl56Xa9bxbbg"
      },
      "source": [
        "y = [1,5,10,15,20,25,30,35,40,45,50,55,60,65,70,75,80,85,90,95]\r\n",
        "t =[0,4,9,14,19,24,29,34,39,44,49,54,59,64,69,74,79,84,89,94]\r\n",
        "maliyet_cost = [float(maliyet_cost[i]) for i in t]\r\n",
        "baski_maliyet = [float(baski_maliyet[i]) for i in y]\r\n",
        "\r\n",
        "x = [i for i in t]\r\n"
      ],
      "execution_count": null,
      "outputs": []
    },
    {
      "cell_type": "code",
      "metadata": {
        "id": "NAYNZsJ2xyj-"
      },
      "source": [
        "plt.plot(x,maliyet_cost,color=\"blue\")\r\n",
        "plt.plot(x,baski_maliyet,color=\"red\")"
      ],
      "execution_count": null,
      "outputs": []
    },
    {
      "cell_type": "code",
      "metadata": {
        "id": "zqWguhM4yLUl"
      },
      "source": [
        ""
      ],
      "execution_count": null,
      "outputs": []
    }
  ]
}