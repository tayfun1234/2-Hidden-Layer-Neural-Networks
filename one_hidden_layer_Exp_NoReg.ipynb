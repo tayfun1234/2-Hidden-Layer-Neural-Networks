{
  "nbformat": 4,
  "nbformat_minor": 0,
  "metadata": {
    "colab": {
      "name": "one_hidden_layer_Exp_NoReg.ipynb",
      "private_outputs": true,
      "provenance": [],
      "authorship_tag": "ABX9TyMWoOYqgtZj9VBur27NKHF7",
      "include_colab_link": true
    },
    "kernelspec": {
      "name": "python3",
      "display_name": "Python 3"
    }
  },
  "cells": [
    {
      "cell_type": "markdown",
      "metadata": {
        "id": "view-in-github",
        "colab_type": "text"
      },
      "source": [
        "<a href=\"https://colab.research.google.com/github/tayfununal/2-Hidden-Layer-Neural-Networks/blob/master/one_hidden_layer_Exp_NoReg.ipynb\" target=\"_parent\"><img src=\"https://colab.research.google.com/assets/colab-badge.svg\" alt=\"Open In Colab\"/></a>"
      ]
    },
    {
      "cell_type": "code",
      "metadata": {
        "id": "t7FSHb6mRUDZ"
      },
      "source": [
        "!pip install playground-data"
      ],
      "execution_count": null,
      "outputs": []
    },
    {
      "cell_type": "code",
      "metadata": {
        "id": "7e_A0VtcRXzg"
      },
      "source": [
        "import numpy as np\r\n",
        "import matplotlib.pyplot as plt\r\n",
        "import pandas as pd\r\n",
        "import plygdata as pg\r\n",
        "import json\r\n",
        "import requests"
      ],
      "execution_count": null,
      "outputs": []
    },
    {
      "cell_type": "code",
      "metadata": {
        "id": "zeCka_6CRdDp"
      },
      "source": [
        "Datas = json.loads(requests.get(\"https://raw.githubusercontent.com/tayfununal/2-Hidden-Layer-Neural-Networks/master/produced_XOR_Datas.json\").text)"
      ],
      "execution_count": null,
      "outputs": []
    },
    {
      "cell_type": "code",
      "metadata": {
        "id": "2LMOdCPBRhtr"
      },
      "source": [
        "df = pd.DataFrame(Datas[\"1\"])\r\n",
        "df"
      ],
      "execution_count": null,
      "outputs": []
    },
    {
      "cell_type": "code",
      "metadata": {
        "id": "dUT9oaCYRlL_"
      },
      "source": [
        "X = np.array(df[[0,1]]).T\r\n",
        "Y = np.array(df[[2]]).T"
      ],
      "execution_count": null,
      "outputs": []
    },
    {
      "cell_type": "code",
      "metadata": {
        "id": "NbVT_nR0RoS2"
      },
      "source": [
        "print(\"Shape of X_train:\", X.shape,\r\n",
        "      \"\\nShape of y_train:\", Y.shape)"
      ],
      "execution_count": null,
      "outputs": []
    },
    {
      "cell_type": "code",
      "metadata": {
        "id": "DV7s7lzVRuLA"
      },
      "source": [
        "def initialization_parameters(x, y, num_node, random_seeds_one, random_seeds_two):\r\n",
        "    np.random.seed(random_seeds_one)\r\n",
        "    W1 = np.random.randn(num_node * x.shape[0]).reshape(num_node, x.shape[0]) # *0.001\r\n",
        "    b1 = np.zeros((num_node, 1))\r\n",
        "\r\n",
        "    np.random.seed(random_seeds_two)\r\n",
        "    W2 = np.random.randn(y.shape[0], num_node) #*0.001\r\n",
        "    b2 = np.zeros((y.shape[0], 1))\r\n",
        "\r\n",
        "    assert W1.shape == (num_node, x.shape[0])\r\n",
        "    assert b1.shape == (num_node, 1)\r\n",
        "\r\n",
        "    assert W2.shape == (y.shape[0], num_node)\r\n",
        "    assert b2.shape == (y.shape[0], 1)\r\n",
        "\r\n",
        "    parameters = {'W1': W1,\r\n",
        "                  'b1': b1,\r\n",
        "                  'W2': W2,\r\n",
        "                  'b2': b2}\r\n",
        "    return parameters\r\n",
        "\r\n",
        "\r\n",
        "def sigmoid(x):\r\n",
        "    return 1 / (1 + np.exp(-x))\r\n",
        "\r\n",
        "\r\n",
        "def relu(x):\r\n",
        "    return np.maximum(0, x)\r\n",
        "\r\n",
        "\r\n",
        "def reluDerivative(x):\r\n",
        "    x[x <= 0] = 0\r\n",
        "    x[x > 0] = 1\r\n",
        "    return x\r\n",
        "\r\n",
        "\r\n",
        "def forward_prop(x, parameters):\r\n",
        "    W1 = parameters['W1']\r\n",
        "    b1 = parameters['b1']\r\n",
        "    W2 = parameters['W2']\r\n",
        "    b2 = parameters['b2']\r\n",
        "\r\n",
        "    Z1 = np.dot(W1, x) + b1\r\n",
        "    A1 = relu(Z1)\r\n",
        "    Z2 = np.dot(W2, A1) + b2\r\n",
        "    A2 = sigmoid(Z2)\r\n",
        "\r\n",
        "    assert (A2.shape == (1, x.shape[1]))\r\n",
        "    cache = {\r\n",
        "        'Z1': Z1,\r\n",
        "        'A1': A1,\r\n",
        "        'Z2': Z2,\r\n",
        "        'A2': A2\r\n",
        "    }\r\n",
        "    return A2, cache\r\n",
        "\r\n",
        "\r\n",
        "def backward_prop(x, y, parameters, cache, learning_rate=0.1):\r\n",
        "    m = y.shape[1]\r\n",
        "\r\n",
        "    W1 = parameters['W1']\r\n",
        "    b1 = parameters['b1']\r\n",
        "    W2 = parameters['W2']\r\n",
        "    b2 = parameters['b2']\r\n",
        "\r\n",
        "    A1 = cache['A1']\r\n",
        "    A2 = cache['A2']\r\n",
        "\r\n",
        "    # Calculations of backward propagation: dW1, db1, dW2, db2\r\n",
        "    dZ2 = A2 - y\r\n",
        "    dW2 = (1 / m) * np.dot(dZ2, A1.T)\r\n",
        "    db2 = (1 / m) * np.sum(dZ2, axis=1, keepdims=True)\r\n",
        "\r\n",
        "    dZ1 = np.multiply(np.dot(W2.T, dZ2), reluDerivative(A1))\r\n",
        "    dW1 = (1 / m) * np.dot(dZ1, x.T)\r\n",
        "    db1 = (1 / m) * np.sum(dZ1, axis=1, keepdims=True)\r\n",
        "\r\n",
        "    # Updating parameters\r\n",
        "    W1 = W1 - learning_rate * dW1\r\n",
        "    b1 = b1 - learning_rate * db1\r\n",
        "    W2 = W2 - learning_rate * dW2\r\n",
        "    b2 = b2 - learning_rate * db2\r\n",
        "\r\n",
        "    parameters = {'W1': W1,\r\n",
        "                  'b1': b1,\r\n",
        "                  'W2': W2,\r\n",
        "                  'b2': b2}\r\n",
        "    return parameters\r\n",
        "\r\n",
        "\r\n",
        "def cross_entropy_cost(y, A2, parameters):\r\n",
        "    m = y.shape[1]\r\n",
        "\r\n",
        "    W1 = parameters[\"W1\"]\r\n",
        "    W2 = parameters[\"W2\"]\r\n",
        "\r\n",
        "    cross_entropy = np.multiply(np.log(A2 + 1e-15), y) + np.multiply((1 - y), np.log(1 - A2 + 1e-15))\r\n",
        "    cost = (- 1.0 / m) * np.sum(cross_entropy)\r\n",
        "\r\n",
        "    # Squeezing to avoid unnecessary dimensions\r\n",
        "    cost = np.squeeze(cost)\r\n",
        "    return cost\r\n",
        "\r\n",
        "\r\n",
        "def accuracy(X, Y, parameters):\r\n",
        "    A2, cache = forward_prop(X, parameters)\r\n",
        "    predictions = np.round(A2)\r\n",
        "    accuracy = float((np.dot(Y, predictions.T) + np.dot(1 - Y, 1 - predictions.T)) / float(Y.size) * 100)\r\n",
        "    return accuracy"
      ],
      "execution_count": null,
      "outputs": []
    },
    {
      "cell_type": "code",
      "metadata": {
        "id": "sD4dtxCURw8R"
      },
      "source": [
        "def nn_model(x, y, parameters, number_of_iter=1000):\r\n",
        "    A2, cache = forward_prop(x, parameters)\r\n",
        "    cost = cross_entropy_cost(y, A2, parameters)\r\n",
        "\r\n",
        "    for i in range(1, number_of_iter):\r\n",
        "        parameters = backward_prop(x, y, parameters, cache, learning_rate=0.6)\r\n",
        "        A2, cache = forward_prop(x, parameters)\r\n",
        "        cost = cross_entropy_cost(y, A2, parameters)\r\n",
        "\r\n",
        "        # cost_value[i+1] = cost\r\n",
        "        \"\"\"\r\n",
        "        if (i+1) % 1000 == 0:\r\n",
        "         cost_value[i+1] = cost\r\n",
        "         print(\"%i.\"%(i+1),cost)\r\n",
        "         \"\"\"\r\n",
        "    return cost, parameters"
      ],
      "execution_count": null,
      "outputs": []
    },
    {
      "cell_type": "code",
      "metadata": {
        "id": "aKvG3QqFRzQr"
      },
      "source": [
        "np.random.seed(65468)\r\n",
        "random_seeds = np.zeros((100,2))\r\n",
        "for i in range(0,100):\r\n",
        "  for j in range(0,2):\r\n",
        "    random_seeds[i,j] = np.random.randint(1,100001)"
      ],
      "execution_count": null,
      "outputs": []
    },
    {
      "cell_type": "code",
      "metadata": {
        "id": "oQhjsYRyXJsA"
      },
      "source": [
        "pg.dataset.random.seed(2)\r\n",
        "test_data = pg.dataset.DataGenerator.classify_xor(1000,noise=0.1)\r\n",
        "test_data = pd.DataFrame(test_data , columns=[\"x1\",\"x2\",\"y\"])\r\n",
        "test_data_X = np.array(test_data[['x1','x2']]).T\r\n",
        "test_data_Y = np.array(test_data[['y']]).T\r\n",
        "test_data_Y[test_data_Y==-1] = 0"
      ],
      "execution_count": null,
      "outputs": []
    },
    {
      "cell_type": "code",
      "metadata": {
        "id": "jWGhknVrR20l"
      },
      "source": [
        "from collections import Counter\r\n",
        "average_aHundred_cost = dict()\r\n",
        "test_cost = dict()\r\n",
        "average_aHundred_test_cost = dict()\r\n",
        "test_data_result = dict()\r\n",
        "\r\n",
        "for n in range(1,101): #101 #Toplam 100 tane veri kümesi olduğundan 100 kere çalıçmasını sağlamak için 101 e kadar saydırmalıyız.\r\n",
        "  df = pd.DataFrame(Datas[\"{}\".format(n)])\r\n",
        "  X = np.array(df[[0,1]]).T\r\n",
        "  Y = np.array(df[[2]]).T\r\n",
        "\r\n",
        "  for i in range(0,100): #100 initial point\r\n",
        "    average_twenty_cost = dict()\r\n",
        "    for number_of_neuron in [1, 5, 10, 15, 20, 25, 30, 35, 40, 45, 50, 55, 60, 65, 70, 75, 80, 85, 90, 95, 100]:\r\n",
        "      parameters = initialization_parameters(X, Y, number_of_neuron, int(random_seeds[i,0]), int(random_seeds[i,1]))\r\n",
        "      cost, parameters = nn_model(X , Y, parameters, number_of_iter = 1000)\r\n",
        "      average_twenty_cost['{}'.format(number_of_neuron)] = cost * 1 / 100 #100 tane farklı başlangıç noktası ile modeli eğittiğimiz için 100'e bölüyoruz.\r\n",
        "\r\n",
        "      A2, cache = forward_prop(test_data_X, parameters)\r\n",
        "      test_cost['{}'.format(number_of_neuron)] = cross_entropy_cost(test_data_Y, A2, parameters) * 1 / 100\r\n",
        "    average_aHundred_test_cost = Counter(average_aHundred_test_cost) + Counter(test_cost)\r\n",
        "    average_aHundred_cost = Counter(average_aHundred_cost) + Counter(average_twenty_cost)\r\n",
        "  if (n % 5) == 0:\r\n",
        "    print(n,\" - controlTEST\",average_aHundred_test_cost,\"controlCOST\",average_aHundred_cost)"
      ],
      "execution_count": null,
      "outputs": []
    },
    {
      "cell_type": "code",
      "metadata": {
        "id": "M5B55at-gZ5y"
      },
      "source": [
        "#print(\"ty\",test_cost)\r\n",
        "print(\"test100\", dict(average_aHundred_test_cost))\r\n",
        "#print(\"average20\",average_twenty_cost)\r\n",
        "print(\"cost100\",dict(average_aHundred_cost))"
      ],
      "execution_count": null,
      "outputs": []
    },
    {
      "cell_type": "code",
      "metadata": {
        "id": "IoeRB58xQq6-"
      },
      "source": [
        "\"\"\"\r\n",
        "\r\n",
        "x = [i for i in range(1,21)]\r\n",
        "y= np.array(list(average_aHundred_cost.values()))\r\n",
        "z = np.array(list(test_cost.values()))\r\n",
        "plt.plot(x, y, color=\"red\")\r\n",
        "plt.plot(x,z, color=\"blue\")\r\n",
        "plt.show()\r\n",
        "\r\n",
        "\"\"\"\r\n",
        "\r\n",
        "\r\n",
        "\"\"\"\r\n",
        "\r\n",
        "test100 {'1': 56.07265429945398, '5': 4.284047276946905, '10': 3.636714606428911, '15': 3.6698393130692955, '20': 3.759570419142598, '25': 3.934039975779941, '30': 4.144499426368325, '35': 4.428522087632986, '40': 4.742464434685483, '45': 5.153614120076064, '50': 5.558837648962923, '55': 5.9800149737490855, '60': 6.38212777646587, '65': 6.760059681686107, '70': 7.208347398526732, '75': 7.63743241415394, '80': 7.953036280424238, '85': 8.391668624621495, '90': 8.87750885773311, '95': 9.401192662393102, '100': 9.781579503271404}\r\n",
        "cost100 {'1': 55.54437869906683, '5': 3.140898047740914, '10': 2.3695972533199905, '15': 2.3153408685157664, '20': 2.274080535742187, '25': 2.2495886017608675, '30': 2.2383628403263724, '35': 2.245431895774773, '40': 2.2698020126412266, '45': 2.3194943853538628, '50': 2.3773174388052434, '55': 2.4424143734230856, '60': 2.51119149402324, '65': 2.569740921100265, '70': 2.6562294970087685, '75': 2.762468858008673, '80': 2.7961181666818815, '85': 2.8940388503625614, '90': 3.0024958271468543, '95': 3.117988699809893, '100': 3.201184186388983}\r\n",
        "\r\n",
        "\"\"\""
      ],
      "execution_count": null,
      "outputs": []
    }
  ]
}