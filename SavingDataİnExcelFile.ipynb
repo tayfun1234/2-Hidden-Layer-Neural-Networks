{
  "nbformat": 4,
  "nbformat_minor": 0,
  "metadata": {
    "colab": {
      "name": "SavingDataİnExcelFile.ipynb",
      "private_outputs": true,
      "provenance": [],
      "collapsed_sections": [],
      "mount_file_id": "1oXninOjy-lFHZr3DxOvhdc-IJR1eb4W-",
      "authorship_tag": "ABX9TyPWk3Z7iQtceu+7thOktopU",
      "include_colab_link": true
    },
    "kernelspec": {
      "name": "python3",
      "display_name": "Python 3"
    }
  },
  "cells": [
    {
      "cell_type": "markdown",
      "metadata": {
        "id": "view-in-github",
        "colab_type": "text"
      },
      "source": [
        "<a href=\"https://colab.research.google.com/github/tayfununal/2-Hidden-Layer-Neural-Networks/blob/master/SavingData%C4%B0nExcelFile.ipynb\" target=\"_parent\"><img src=\"https://colab.research.google.com/assets/colab-badge.svg\" alt=\"Open In Colab\"/></a>"
      ]
    },
    {
      "cell_type": "code",
      "metadata": {
        "id": "i4YZnEx3CyDk"
      },
      "source": [
        "import numpy as np\r\n",
        "import matplotlib.pyplot as plt\r\n",
        "import pandas as pd\r\n",
        "import json\r\n",
        "import requests"
      ],
      "execution_count": null,
      "outputs": []
    },
    {
      "cell_type": "code",
      "metadata": {
        "id": "6yrqdBPPC0SN"
      },
      "source": [
        "Datas = json.loads(requests.get(\"https://raw.githubusercontent.com/tayfununal/2-Hidden-Layer-Neural-Networks/master/produced_XOR_Datas.json\").text)"
      ],
      "execution_count": null,
      "outputs": []
    },
    {
      "cell_type": "code",
      "metadata": {
        "id": "bzITn7pgC7yU"
      },
      "source": [
        "df = pd.DataFrame(Datas[\"1\"])\r\n",
        "df"
      ],
      "execution_count": null,
      "outputs": []
    },
    {
      "cell_type": "code",
      "metadata": {
        "id": "miv5zjbvC8un"
      },
      "source": [
        "for j in range(1,101):\r\n",
        "  for i in range(0,2):\r\n",
        "    k=i+1\r\n",
        "    df = df.rename(columns={i: 'x{}'.format(k)})\r\n",
        "  df = df.rename(columns={2: 'y'})\r\n",
        "  df.to_excel(\"{}.data.xlsx\".format(j))\r\n",
        "  \r\n"
      ],
      "execution_count": null,
      "outputs": []
    }
  ]
}