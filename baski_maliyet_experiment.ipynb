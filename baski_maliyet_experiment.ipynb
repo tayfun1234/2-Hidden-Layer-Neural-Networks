{
  "nbformat": 4,
  "nbformat_minor": 0,
  "metadata": {
    "colab": {
      "name": "baski_maliyet_experiment.ipynb",
      "private_outputs": true,
      "provenance": [],
      "toc_visible": true,
      "authorship_tag": "ABX9TyP3LMLOg13fLPIyRNtjvaQ3",
      "include_colab_link": true
    },
    "kernelspec": {
      "name": "python3",
      "display_name": "Python 3"
    }
  },
  "cells": [
    {
      "cell_type": "markdown",
      "metadata": {
        "id": "view-in-github",
        "colab_type": "text"
      },
      "source": [
        "<a href=\"https://colab.research.google.com/github/tayfununal/2-Hidden-Layer-Neural-Networks/blob/master/baski_maliyet_experiment.ipynb\" target=\"_parent\"><img src=\"https://colab.research.google.com/assets/colab-badge.svg\" alt=\"Open In Colab\"/></a>"
      ]
    },
    {
      "cell_type": "code",
      "metadata": {
        "id": "3YrQT10xAozO"
      },
      "source": [
        "import pandas as pd\r\n",
        "import numpy as np\r\n"
      ],
      "execution_count": null,
      "outputs": []
    },
    {
      "cell_type": "code",
      "metadata": {
        "id": "g6Y7g8q-A0w4"
      },
      "source": [
        "maliyet = pd.read_excel('/content/1000verili_sonuclar.xlsx')\r\n",
        "maliyet.head()"
      ],
      "execution_count": null,
      "outputs": []
    },
    {
      "cell_type": "code",
      "metadata": {
        "id": "HkOoIE7aCwpt"
      },
      "source": [
        "x = np.array(maliyet.iloc[19,:][1:])\r\n",
        "np.sum(x,axis=0)/100.\r\n"
      ],
      "execution_count": null,
      "outputs": []
    },
    {
      "cell_type": "code",
      "metadata": {
        "id": "_1thUPXNBA3s"
      },
      "source": [
        "maliyet = np.array(np.sum(maliyet, axis=1))/100.\r\n",
        "maliyet"
      ],
      "execution_count": null,
      "outputs": []
    },
    {
      "cell_type": "markdown",
      "metadata": {
        "id": "kkV_X0XxFNL-"
      },
      "source": [
        "###BASKİ MALİYET"
      ]
    },
    {
      "cell_type": "code",
      "metadata": {
        "id": "1haFe4xeE_VY"
      },
      "source": [
        "baski_maliyet = pd.read_excel('/content/baski_maliyet_exp_1000data.xlsx')\r\n",
        "baski_maliyet.head()"
      ],
      "execution_count": null,
      "outputs": []
    },
    {
      "cell_type": "code",
      "metadata": {
        "id": "MNwF0SGUFJpL"
      },
      "source": [
        "x = np.array(baski_maliyet.iloc[19,:][1:])\r\n",
        "np.sum(x,axis=0)/100.\r\n"
      ],
      "execution_count": null,
      "outputs": []
    },
    {
      "cell_type": "code",
      "metadata": {
        "id": "bSeQduJlFTYq"
      },
      "source": [
        "baski_maliyet = np.array(np.sum(baski_maliyet, axis=1))/100.\r\n",
        "baski_maliyet"
      ],
      "execution_count": null,
      "outputs": []
    },
    {
      "cell_type": "code",
      "metadata": {
        "id": "59lUtcOUFXUU"
      },
      "source": [
        "import matplotlib.pyplot as plt\r\n",
        "import numpy as np\r\n"
      ],
      "execution_count": null,
      "outputs": []
    },
    {
      "cell_type": "code",
      "metadata": {
        "id": "AwaO5ziQFotT"
      },
      "source": [
        "x1_axes = [i for i in range(1,21)]\r\n",
        "x2_axes = [i for i in range(1,21)]\r\n",
        "plt.plot(x1_axes, maliyet, color='blue')\r\n",
        "plt.plot(x2_axes, baski_maliyet[1:], color='red')\r\n",
        "plt.title('Maliyet vs Baskı Maliyet')\r\n",
        "plt.xlabel('Gizli Katmandaki Nöron Sayısı')\r\n",
        "plt.ylabel('Maliyet Değeri')\r\n",
        "plt.xticks(x2_axes)\r\n",
        "plt.grid(linestyle='-', linewidth=1)\r\n",
        "\r\n",
        "plt.scatter(x2_axes, maliyet,color='blue')\r\n",
        "plt.scatter(x1_axes, baski_maliyet[1:],color='red')\r\n",
        "\r\n",
        "plt.legend(['Maliyet(n)', 'Baskı Maliyet(n+1)'], loc=('upper right'))\r\n",
        "plt.show()"
      ],
      "execution_count": null,
      "outputs": []
    },
    {
      "cell_type": "code",
      "metadata": {
        "id": "jyxHZbbCF6wL"
      },
      "source": [
        ""
      ],
      "execution_count": null,
      "outputs": []
    }
  ]
}