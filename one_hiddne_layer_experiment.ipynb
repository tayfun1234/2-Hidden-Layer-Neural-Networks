{
  "nbformat": 4,
  "nbformat_minor": 0,
  "metadata": {
    "colab": {
      "name": "one_hiddne_layer_experiment.ipynb",
      "private_outputs": true,
      "provenance": [],
      "authorship_tag": "ABX9TyOvcefwRXyMe7NS+/cBrBA6",
      "include_colab_link": true
    },
    "kernelspec": {
      "name": "python3",
      "display_name": "Python 3"
    }
  },
  "cells": [
    {
      "cell_type": "markdown",
      "metadata": {
        "id": "view-in-github",
        "colab_type": "text"
      },
      "source": [
        "<a href=\"https://colab.research.google.com/github/tayfununal/2-Hidden-Layer-Neural-Networks/blob/master/one_hiddne_layer_experiment.ipynb\" target=\"_parent\"><img src=\"https://colab.research.google.com/assets/colab-badge.svg\" alt=\"Open In Colab\"/></a>"
      ]
    },
    {
      "cell_type": "code",
      "metadata": {
        "id": "qhiLHNFTPX0Q"
      },
      "source": [
        "!pip install playground-data"
      ],
      "execution_count": null,
      "outputs": []
    },
    {
      "cell_type": "code",
      "metadata": {
        "id": "iQE3w5lwfM6j"
      },
      "source": [
        "import numpy as np\n",
        "import matplotlib.pyplot as plt\n",
        "import pandas as pd\n",
        "import plygdata as pg\n",
        "import json\n",
        "import requests"
      ],
      "execution_count": null,
      "outputs": []
    },
    {
      "cell_type": "code",
      "metadata": {
        "id": "XwvBuH2-_Zkh"
      },
      "source": [
        "Datas = json.loads(requests.get(\"https://raw.githubusercontent.com/tayfununal/2-Hidden-Layer-Neural-Networks/master/produced_XOR_Datas.json\").text)"
      ],
      "execution_count": null,
      "outputs": []
    },
    {
      "cell_type": "code",
      "metadata": {
        "id": "jVATElDUeJC1"
      },
      "source": [
        "df = pd.DataFrame(Datas[\"1\"])\n",
        "df"
      ],
      "execution_count": null,
      "outputs": []
    },
    {
      "cell_type": "code",
      "metadata": {
        "id": "lY2fsWW_jlUW"
      },
      "source": [
        "X = np.array(df[[0,1]]).T\n",
        "Y = np.array(df[[2]]).T"
      ],
      "execution_count": null,
      "outputs": []
    },
    {
      "cell_type": "code",
      "metadata": {
        "id": "FpbxEQe7mlxx"
      },
      "source": [
        "print(\"Shape of X_train:\", X.shape,\n",
        "      \"\\nShape of y_train:\", Y.shape)"
      ],
      "execution_count": null,
      "outputs": []
    },
    {
      "cell_type": "code",
      "metadata": {
        "id": "liPL5lGCQGXD"
      },
      "source": [
        "def initialization_parameters(x, y, num_node, random_seeds_one, random_seeds_two):\n",
        "  np.random.seed(random_seeds_one)\n",
        "  W1 = np.random.randn(num_node * x.shape[0]).reshape(num_node, x.shape[0]) * 0.001\n",
        "  b1 = np.zeros((num_node,1))\n",
        "\n",
        "  np.random.seed(random_seeds_two)\n",
        "  W2 = np.random.randn(y.shape[0],num_node) * 0.001\n",
        "  b2 = np.zeros((y.shape[0],1))\n",
        "\n",
        "  assert W1.shape == (num_node,x.shape[0])\n",
        "  assert b1.shape == (num_node, 1)\n",
        "\n",
        "  assert W2.shape == (y.shape[0], num_node)\n",
        "  assert b2.shape == (y.shape[0], 1)\n",
        "\n",
        "  parameters = {'W1':W1,\n",
        "                'b1':b1,\n",
        "                'W2':W2,\n",
        "                'b2':b2}\n",
        "  return parameters\n",
        "\n",
        "def sigmoid(x):\n",
        "  return 1/(1+np.exp(-x))\n",
        "\n",
        "def relu(x):\n",
        "  return np.maximum(0,x)\n",
        "\n",
        "def reluDerivative(x):\n",
        "  x[x<=0] = 0\n",
        "  x[x>0] = 1\n",
        "  return x\n",
        "\n",
        "def forward_prop(x,parameters):\n",
        "  W1 = parameters['W1']\n",
        "  b1 = parameters['b1']\n",
        "  W2 = parameters['W2']\n",
        "  b2 = parameters['b2']\n",
        "  \n",
        "  Z1 = np.dot(W1, x) + b1\n",
        "  A1 = relu(Z1)\n",
        "  Z2 = np.dot(W2, A1) + b2\n",
        "  A2 = sigmoid(Z2)\n",
        "\n",
        "  assert (A2.shape == (1, x.shape[1]))\n",
        "  cache = {\n",
        "      'Z1' : Z1,\n",
        "      'A1' : A1,\n",
        "      'Z2' : Z2,\n",
        "      'A2' : A2\n",
        "  }\n",
        "  return A2, cache\n",
        "\n",
        "def backward_prop(x, y, parameters, cache, learning_rate = 0.1, lambd=0.1):\n",
        "  m = y.shape[1]\n",
        "  \n",
        "  W1 = parameters['W1']\n",
        "  b1 = parameters['b1']\n",
        "  W2 = parameters['W2']\n",
        "  b2 = parameters['b2']\n",
        "\n",
        "  A1 = cache['A1']\n",
        "  A2 = cache['A2']\n",
        "  \n",
        "  # Calculations of backward propagation: dW1, db1, dW2, db2\n",
        "  dZ2 = A2 - y\n",
        "  dW2 = (1 / m) * np.dot(dZ2, A1.T) + (lambd / m) * W2\n",
        "  db2 = (1 / m) * np.sum(dZ2, axis = 1, keepdims = True)\n",
        "\n",
        "  dZ1 = np.multiply(np.dot(W2.T, dZ2), reluDerivative(A1))\n",
        "  dW1 = (1 / m) * np.dot(dZ1, x.T) + (lambd / m) * W1  \n",
        "  db1 = (1 / m) * np.sum(dZ1 , axis = 1, keepdims = True)\n",
        "\n",
        "  # Updating parameters\n",
        "  W1 = W1 - learning_rate * dW1\n",
        "  b1 = b1 - learning_rate * db1\n",
        "  W2 = W2 - learning_rate * dW2\n",
        "  b2 = b2 - learning_rate * db2\n",
        "  \n",
        "  parameters = {'W1':W1,\n",
        "                'b1':b1,\n",
        "                'W2':W2,\n",
        "                'b2':b2}\n",
        "  return parameters\n",
        "\n",
        "def cross_entropy_cost(y, A2, parameters, lambd = 0.1):\n",
        "  m = y.shape[1]\n",
        "\n",
        "  W1 = parameters[\"W1\"]\n",
        "  W2 = parameters[\"W2\"]\n",
        "  \n",
        "  cross_entropy = np.multiply(np.log(A2 + 1e-15), y) + np.multiply((1 - y), np.log(1 - A2 + 1e-15))\n",
        "  L2_regularization_cost = (np.sum(np.square(W1)) + np.sum(np.square(W2))) * (lambd / (2 * m))\n",
        "\n",
        "  cost = (- 1.0 / m) * np.sum(cross_entropy) + L2_regularization_cost\n",
        "\n",
        "  # Squeezing to avoid unnecessary dimensions \n",
        "  cost = np.squeeze(cost) \n",
        "  return cost"
      ],
      "execution_count": null,
      "outputs": []
    },
    {
      "cell_type": "code",
      "metadata": {
        "id": "lq0KrPZ_Whua"
      },
      "source": [
        "def nn_model(x, y, parameters, number_of_iter = 1000):\n",
        "\n",
        "  A2, cache = forward_prop(x, parameters)\n",
        "  cost = cross_entropy_cost(y, A2 ,parameters)\n",
        "\n",
        "  for i in range(1,number_of_iter):\n",
        "    parameters = backward_prop(x, y, parameters, cache, learning_rate=0.1, lambd=0.1)\n",
        "    A2, cache = forward_prop(x, parameters)\n",
        "    cost = cross_entropy_cost(y, A2, parameters)\n",
        "    \n",
        "    #cost_value[i+1] = cost\n",
        "    \"\"\"\n",
        "    if (i+1) % 1000 == 0:\n",
        "     cost_value[i+1] = cost\n",
        "     print(\"%i.\"%(i+1),cost)\n",
        "     \"\"\"\n",
        "  return cost, parameters"
      ],
      "execution_count": null,
      "outputs": []
    },
    {
      "cell_type": "code",
      "metadata": {
        "id": "a51RQu_KXO4r"
      },
      "source": [
        "np.random.seed(65468)\n",
        "random_seeds = np.zeros((100,2))\n",
        "for i in range(0,100):\n",
        "  for j in range(0,2):\n",
        "    random_seeds[i,j] = np.random.random_integers(1,100001)"
      ],
      "execution_count": null,
      "outputs": []
    },
    {
      "cell_type": "code",
      "metadata": {
        "id": "tvZ_mancwpNO"
      },
      "source": [
        "from collections import Counter\n",
        "average_aHundred_cost = dict()\n",
        "for i in range(0,100):\n",
        "  average_twenty_cost = dict()\n",
        "  for number_of_neuron in range(1,21):\n",
        "    parameters = initialization_parameters(X, Y, number_of_neuron, int(random_seeds[i,0]), int(random_seeds[i,1]))\n",
        "    cost, parameters = nn_model(X , Y, parameters, number_of_iter = 1000)\n",
        "    average_twenty_cost['{}'.format(number_of_neuron)] = cost\n",
        "  print(i)\n",
        "  average_aHundred_cost =  Counter(average_aHundred_cost) + Counter(average_twenty_cost)\n",
        "average_aHundred_cost"
      ],
      "execution_count": null,
      "outputs": []
    },
    {
      "cell_type": "code",
      "metadata": {
        "id": "Z5Ih1aKaHs8N"
      },
      "source": [
        "aveterage_aHundred_cost_2kezCalistirma =Counter({'1': 56.40593127856665,\n",
        "         '2': 40.79322982879353,\n",
        "         '3': 26.633210519191504,\n",
        "         '4': 16.665555845229314,\n",
        "         '5': 9.783761191069855,\n",
        "         '6': 7.441549625752841,\n",
        "         '7': 5.1284504099055015,\n",
        "         '8': 4.241026418040571,\n",
        "         '9': 4.033889653859869,\n",
        "         '10': 3.8314469043198676,\n",
        "         '11': 3.7000557728816834,\n",
        "         '12': 3.4203377265475994,\n",
        "         '13': 3.2944519866046007,\n",
        "         '14': 2.8446698274271585,\n",
        "         '15': 2.8406606970802466,\n",
        "         '16': 2.733472057774313,\n",
        "         '17': 2.6321627637484037,\n",
        "         '18': 2.569273628709427,\n",
        "         '19': 2.567677240124163,\n",
        "         '20': 2.5653711829760106})"
      ],
      "execution_count": null,
      "outputs": []
    },
    {
      "cell_type": "code",
      "metadata": {
        "id": "0wYxDN9Yzj4S"
      },
      "source": [
        "average_aHundred_cost =Counter({'1': 56.40593127856665,\n",
        "         '2': 40.79322982879353,\n",
        "         '3': 26.633210519191504,\n",
        "         '4': 16.665555845229314,\n",
        "         '5': 9.783761191069855,\n",
        "         '6': 7.441549625752841,\n",
        "         '7': 5.1284504099055015,\n",
        "         '8': 4.241026418040571,\n",
        "         '9': 4.033889653859869,\n",
        "         '10': 3.8314469043198676,\n",
        "         '11': 3.7000557728816834,\n",
        "         '12': 3.4203377265475994,\n",
        "         '13': 3.2944519866046007,\n",
        "         '14': 2.8446698274271585,\n",
        "         '15': 2.8406606970802466,\n",
        "         '16': 2.733472057774313,\n",
        "         '17': 2.6321627637484037,\n",
        "         '18': 2.569273628709427,\n",
        "         '19': 2.567677240124163,\n",
        "         '20': 2.5653711829760106})\n",
        "​\n"
      ],
      "execution_count": null,
      "outputs": []
    },
    {
      "cell_type": "code",
      "metadata": {
        "id": "EjQDkAPtHqHW"
      },
      "source": [
        "average_aHundred_cost.items()"
      ],
      "execution_count": null,
      "outputs": []
    },
    {
      "cell_type": "code",
      "metadata": {
        "id": "PLAMSavw0sIU"
      },
      "source": [
        "for i in range(1,21):\n",
        "  average_aHundred_cost['{}'.format(i)] = average_aHundred_cost['{}'.format(i)]*(1/100)"
      ],
      "execution_count": null,
      "outputs": []
    },
    {
      "cell_type": "code",
      "metadata": {
        "id": "dBR6WskrmCDW"
      },
      "source": [
        "import collections\n",
        "a=collections.OrderedDict(average_aHundred_cost.items())\n",
        "a"
      ],
      "execution_count": null,
      "outputs": []
    },
    {
      "cell_type": "code",
      "metadata": {
        "id": "vR_vSNmUn5-b"
      },
      "source": [
        ""
      ],
      "execution_count": null,
      "outputs": []
    }
  ]
}