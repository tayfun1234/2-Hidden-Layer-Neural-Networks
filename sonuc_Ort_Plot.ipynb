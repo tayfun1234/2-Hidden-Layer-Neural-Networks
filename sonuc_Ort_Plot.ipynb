{
  "nbformat": 4,
  "nbformat_minor": 0,
  "metadata": {
    "colab": {
      "name": "sonuc_Ort_Plot.ipynb",
      "private_outputs": true,
      "provenance": [],
      "authorship_tag": "ABX9TyMLf2A4AKf54AqDlMg8TP69",
      "include_colab_link": true
    },
    "kernelspec": {
      "name": "python3",
      "display_name": "Python 3"
    }
  },
  "cells": [
    {
      "cell_type": "markdown",
      "metadata": {
        "id": "view-in-github",
        "colab_type": "text"
      },
      "source": [
        "<a href=\"https://colab.research.google.com/github/tayfununal/2-Hidden-Layer-Neural-Networks/blob/master/sonuc_Ort_Plot.ipynb\" target=\"_parent\"><img src=\"https://colab.research.google.com/assets/colab-badge.svg\" alt=\"Open In Colab\"/></a>"
      ]
    },
    {
      "cell_type": "code",
      "metadata": {
        "id": "nf_C5-n-FnXG"
      },
      "source": [
        "import numpy as np\r\n",
        "import pandas as pd\r\n",
        "import matplotlib.pyplot as plt"
      ],
      "execution_count": null,
      "outputs": []
    },
    {
      "cell_type": "code",
      "metadata": {
        "id": "8y_jvGpjFyFE"
      },
      "source": [
        "df = pd.read_excel(\"/content/sample_data/1000 veriki sonuçlar.xlsx\")"
      ],
      "execution_count": null,
      "outputs": []
    },
    {
      "cell_type": "code",
      "metadata": {
        "id": "6oaBToRZGHoT"
      },
      "source": [
        "df"
      ],
      "execution_count": null,
      "outputs": []
    },
    {
      "cell_type": "code",
      "metadata": {
        "id": "eqFeM0EgGH_o"
      },
      "source": [
        "df[\"1.Veri\"][:]"
      ],
      "execution_count": null,
      "outputs": []
    },
    {
      "cell_type": "code",
      "metadata": {
        "id": "_1KTPsq4GUfQ"
      },
      "source": [
        "x = [i for i in range(1,21)]"
      ],
      "execution_count": null,
      "outputs": []
    },
    {
      "cell_type": "code",
      "metadata": {
        "id": "Tt4pRIAaGoYq"
      },
      "source": [
        "for i in range(1,101):\r\n",
        "  plt.plot(x,df[\"{}.Veri\".format(i)][:])\r\n"
      ],
      "execution_count": null,
      "outputs": []
    },
    {
      "cell_type": "code",
      "metadata": {
        "id": "qRlGleFjHY0u"
      },
      "source": [
        "ortalama =np.array(df)"
      ],
      "execution_count": null,
      "outputs": []
    },
    {
      "cell_type": "code",
      "metadata": {
        "id": "quR5nlrhHoF0"
      },
      "source": [
        "np.sum(ortalama[0][1:])/100"
      ],
      "execution_count": null,
      "outputs": []
    },
    {
      "cell_type": "code",
      "metadata": {
        "id": "vuonmc7nHo2Q"
      },
      "source": [
        "cost = []\r\n",
        "for i in range(0,20):\r\n",
        "  a = np.sum(ortalama[i][1:])/100\r\n",
        "  cost.append(a)\r\n"
      ],
      "execution_count": null,
      "outputs": []
    },
    {
      "cell_type": "code",
      "metadata": {
        "id": "O34tf2LHJIjO"
      },
      "source": [
        "cost"
      ],
      "execution_count": null,
      "outputs": []
    },
    {
      "cell_type": "code",
      "metadata": {
        "id": "yU0MF4EMJVv2"
      },
      "source": [
        "plt.plot(x,cost,color=\"red\", marker=\"o\")"
      ],
      "execution_count": null,
      "outputs": []
    },
    {
      "cell_type": "code",
      "metadata": {
        "id": "ftTpu1IOJaR-"
      },
      "source": [
        "ax = plt.subplot(111)\r\n",
        "ax.set_xlim(0, 21)\r\n",
        "dim=np.arange(0,21,1);\r\n",
        "ax.plot(x,cost, marker=\"o\",color=\"blue\")\r\n",
        "plt.xticks(dim)\r\n",
        "plt.grid()\r\n",
        "plt.show()"
      ],
      "execution_count": null,
      "outputs": []
    },
    {
      "cell_type": "code",
      "metadata": {
        "id": "ghi9mH8UN_tH"
      },
      "source": [
        ""
      ],
      "execution_count": null,
      "outputs": []
    }
  ]
}