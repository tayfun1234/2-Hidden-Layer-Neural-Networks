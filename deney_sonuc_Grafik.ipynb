{
  "nbformat": 4,
  "nbformat_minor": 0,
  "metadata": {
    "colab": {
      "name": "deney_sonuc_Grafik.ipynb",
      "private_outputs": true,
      "provenance": [],
      "authorship_tag": "ABX9TyOwOg4wml4uYHdcitL5NE7R",
      "include_colab_link": true
    },
    "kernelspec": {
      "name": "python3",
      "display_name": "Python 3"
    }
  },
  "cells": [
    {
      "cell_type": "markdown",
      "metadata": {
        "id": "view-in-github",
        "colab_type": "text"
      },
      "source": [
        "<a href=\"https://colab.research.google.com/github/tayfununal/2-Hidden-Layer-Neural-Networks/blob/master/deney_sonuc_Grafik.ipynb\" target=\"_parent\"><img src=\"https://colab.research.google.com/assets/colab-badge.svg\" alt=\"Open In Colab\"/></a>"
      ]
    },
    {
      "cell_type": "code",
      "metadata": {
        "id": "PWJApvT4bpLw"
      },
      "source": [
        "t = {'1': 56.07265429945398, '5': 4.284047276946905, '10': 3.636714606428911, '15': 3.6698393130692955, '20': 3.759570419142598, '25': 3.934039975779941, '30': 4.144499426368325, '35': 4.428522087632986, '40': 4.742464434685483, '45': 5.153614120076064, '50': 5.558837648962923, '55': 5.9800149737490855, '60': 6.38212777646587, '65': 6.760059681686107, '70': 7.208347398526732, '75': 7.63743241415394, '80': 7.953036280424238, '85': 8.391668624621495, '90': 8.87750885773311, '95': 9.401192662393102, '100': 9.781579503271404}\r\n",
        "\r\n",
        "c = {'1': 55.54437869906683, '5': 3.140898047740914, '10': 2.3695972533199905, '15': 2.3153408685157664, '20': 2.274080535742187, '25': 2.2495886017608675, '30': 2.2383628403263724, '35': 2.245431895774773, '40': 2.2698020126412266, '45': 2.3194943853538628, '50': 2.3773174388052434, '55': 2.4424143734230856, '60': 2.51119149402324, '65': 2.569740921100265, '70': 2.6562294970087685, '75': 2.762468858008673, '80': 2.7961181666818815, '85': 2.8940388503625614, '90': 3.0024958271468543, '95': 3.117988699809893, '100': 3.201184186388983}\r\n",
        "\r\n",
        "\r\n",
        "t = [i/100 for i in t.values()]\r\n",
        "c = [i/100 for i in c.values()]\r\n",
        "x = [1, 5, 10, 15, 20, 25, 30, 35, 40, 45, 50, 55, 60, 65, 70, 75, 80, 85, 90, 95, 100]\r\n",
        "ax = plt.subplot(111)\r\n",
        "ax.set_xlim(0,101)\r\n",
        "dim=[1, 5, 10, 15, 20, 25, 30, 35, 40, 45, 50, 55, 60, 65, 70, 75, 80, 85, 90, 95, 100]\r\n",
        "ax.plot(x,c, marker=\"o\",color=\"blue\")\r\n",
        "ax.plot(x,t, marker=\"o\",color=\"red\")\r\n",
        "plt.xticks(dim)\r\n",
        "plt.xlabel(\"Modelin Gizli Katmanındaki Nöron Sayısı\")\r\n",
        "plt.ylabel(\"Ortalama Maliyet Değerleri\")\r\n",
        "plt.legend((\"Ortalama Deney Maliyet Değeri\", \"Ortalama Test Maliyet Değeri\"))\r\n",
        "plt.grid()\r\n",
        "plt.show()\r\n",
        "\r\n",
        "\r\n",
        "t = [round(t[i],5) for i in range(0,21)]\r\n",
        "c = [round(c[i],5) for i in range(0,21)]\r\n",
        "print(\"Test\",t)\r\n",
        "print(\"Cost\",c)\r\n"
      ],
      "execution_count": null,
      "outputs": []
    }
  ]
}